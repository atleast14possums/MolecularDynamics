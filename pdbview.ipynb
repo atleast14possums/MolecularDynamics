{
 "cells": [
  {
   "cell_type": "code",
   "execution_count": null,
   "metadata": {},
   "outputs": [],
   "source": [
    "import plotly.graph_objects as go\n",
    "import mdtraj as md\n",
    "\n",
    "#----------------------------------------------------------------------------------------------------------------------\n",
    "# this script can visualize the 3d coordinates of the residues in a pdb file and draw lines between the contacts between them\n",
    "# the plot is interactive and residues and lines can be toggled on and off in order to see the contact matrix in a configuration\n",
    "# you can load the contacts from a standard mdtraj residue selection its currently set to run with a smog-server .contacts file \n",
    "# to use mdtraj you can comment out lines 22 and 23 then uncomment lines 26 - 30 and make your contact selections, its worth noting that \n",
    "# using an mdtraj residue selection won't offer as much insight into the native structure of your protein as using the contacts file\n",
    "# which can be easily generated at https://smog-server.org/cgi-bin/GenTopGro.pl\n",
    "#----------------------------------------------------------------------------------------------------------------------\n",
    "# Load PDB file\n",
    "traj = md.load('/mnt/c/users/t_m_w/downloads/1ubq145.xtc', top='/mnt/c/users/t_m_w/moleculardynamics/1ubqcalpha/1ubqcaonly.pdb')\n",
    "\n",
    "# Get atom coordinates\n",
    "atoms = traj.xyz[0]\n",
    "\n",
    "# Create 3D plot\n",
    "fig = go.Figure(data=[go.Scatter3d(x=atoms[:, 0], y=atoms[:, 1], z=atoms[:, 2], mode='markers', opacity = 0.5)])\n",
    "\n",
    "# Get residue pairs from contacts file\n",
    "contacts_df = pd.read_csv('/mnt/c/users/t_m_w/moleculardynamics/1ubqcalpha/1ubqca.contacts', sep='\\s+', usecols=[1, 3], header=None)\n",
    "residue_pairs = contacts_df.values.tolist()\n",
    "\n",
    "# Get residue pairs from mdtraj \n",
    "#heavy = native.topology.select_atom_indices('heavy')\n",
    "#heavy_pairs = np.array(\n",
    "#        [(i,j) for (i,j) in combinations(heavy, 2)\n",
    "#            if abs(native.topology.atom(i).residue.index - \\\n",
    "#                   native.topology.atom(j).residue.index) > 3])\n",
    "\n",
    "colors =  ['red', 'blue', 'green', 'yellow', 'purple', 'orange']\n",
    "# Plot residues and lines between them\n",
    "\n",
    "for i, pair in enumerate(residue_pairs):\n",
    "    res1 = traj.topology.select(f'resid {pair[0]}')\n",
    "    res2 = traj.topology.select(f'resid {pair[1]}')\n",
    "    res1_atoms = traj.atom_slice(res1, inplace=False)\n",
    "    res2_atoms = traj.atom_slice(res2, inplace=False)\n",
    "    fig.add_trace(go.Scatter3d(x=res1_atoms.xyz[0][:, 0], y=res1_atoms.xyz[0][:, 1], z=res1_atoms.xyz[0][:, 2], mode='markers', marker=dict(color=colors[i % len(colors)])))\n",
    "    fig.add_trace(go.Scatter3d(x=res2_atoms.xyz[0][:, 0], y=res2_atoms.xyz[0][:, 1], z=res2_atoms.xyz[0][:, 2], mode='markers', marker=dict(color=colors[i % len(colors)])))\n",
    "    fig.add_trace(go.Scatter3d(x=[res1_atoms.xyz[0][0, 0], res2_atoms.xyz[0][0, 0]], y=[res1_atoms.xyz[0][0, 1], res2_atoms.xyz[0][0, 1]], z=[res1_atoms.xyz[0][0, 2], res2_atoms.xyz[0][0, 2]], mode='lines', line=dict(color=colors[i % len(colors)])))\n",
    "    fig.add_annotation(x=(res1_atoms.xyz[0][0, 0] + res2_atoms.xyz[0][0, 0]) / 2, y=(res1_atoms.xyz[0][0, 1] + res2_atoms.xyz[0][0, 1]) / 2, text=f\"{traj.topology.residue(res1[0]).name} - {traj.topology.residue(res2[0]).name}\", showarrow=False)\n",
    "\n",
    "# Show plot\n",
    "fig.show()"
   ]
  }
 ],
 "metadata": {
  "language_info": {
   "name": "python"
  }
 },
 "nbformat": 4,
 "nbformat_minor": 2
}
